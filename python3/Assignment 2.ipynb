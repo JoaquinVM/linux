{
 "cells": [
  {
   "cell_type": "markdown",
   "metadata": {},
   "source": [
    "21. Escribir un programa que determine si el año es bisiesto. Un año es bisiesto si es\n",
    "múltiplo de 4 (1988), excepto los múltiplos de 100 que no son bisiestos salvo que a su\n",
    "vez también sean múltiplos de 400 (1800no es bisiesto, 2000 sí)."
   ]
  },
  {
   "cell_type": "code",
   "execution_count": 14,
   "metadata": {},
   "outputs": [
    {
     "name": "stdout",
     "output_type": "stream",
     "text": [
      "Introducir año: 1988\n",
      "El año 1988 es bisiesto\n"
     ]
    }
   ],
   "source": [
    "n = int(input(\"Introducir año: \"))\n",
    "if n % 4 == 0 and ( not n % 100 == 0 or n % 400 == 0):\n",
    "    print(f\"El año {n} es bisiesto\")\n",
    "else:\n",
    "    print(f\"El año {n} no es bisiesto\")"
   ]
  },
  {
   "cell_type": "markdown",
   "metadata": {},
   "source": [
    "22. Dado los valores de A, B, C que son los coeficientes de la ecuación de segundo grado,\n",
    "hallar sus raíces reales, desplegar los resultados.\n"
   ]
  },
  {
   "cell_type": "code",
   "execution_count": 15,
   "metadata": {},
   "outputs": [
    {
     "name": "stdout",
     "output_type": "stream",
     "text": [
      "Ingrese coeficiente a: 1\n",
      "Ingrese coeficiente b: 1\n",
      "Ingrese coeficiente c: 1\n",
      "La ecuacion tiene una solucion: (-0.5+0.8660254037844386j) y (-0.5-0.8660254037844386j)\n"
     ]
    }
   ],
   "source": [
    "import math\n",
    "a = int(input(\"Ingrese coeficiente a: \"))\n",
    "b = int(input(\"Ingrese coeficiente b: \"))\n",
    "c = int(input(\"Ingrese coeficiente c: \"))\n",
    "\n",
    "n = b**2 - 4*a*c\n",
    "\n",
    "if n >= 0:\n",
    "    r = math.sqrt(n)\n",
    "else:\n",
    "    r = complex(0,math.sqrt(-1*n))\n",
    "\n",
    "s1 = (-b+r) / (2*a)\n",
    "s2 = (-b-r) / (2*a)\n",
    "\n",
    "if s1 == s2:\n",
    "    print(f\"La ecuacion tiene una solucion: {s1}\")\n",
    "else:\n",
    "    print(f\"La ecuacion tiene una solucion: {s1} y {s2}\")"
   ]
  },
  {
   "cell_type": "markdown",
   "metadata": {},
   "source": [
    "23. Dado dos valores A y B, realizar el producto de los dos números por sumas sucesivas,\n",
    "almacenar el resultado en una variable P, mostrar el resultado"
   ]
  },
  {
   "cell_type": "code",
   "execution_count": 17,
   "metadata": {},
   "outputs": [
    {
     "name": "stdout",
     "output_type": "stream",
     "text": [
      "Ingrese el valor A: 3\n",
      "Ingrese el valor B: 5\n",
      "El resultado es : 15\n"
     ]
    }
   ],
   "source": [
    "a = int(input(\"Ingrese el valor A: \"))\n",
    "b = int(input(\"Ingrese el valor B: \"))\n",
    "\n",
    "i = 0\n",
    "p = 0\n",
    "while i < b:\n",
    "    p += a\n",
    "    i += 1\n",
    "\n",
    "print(f\"El resultado es : {p}\")    "
   ]
  },
  {
   "cell_type": "markdown",
   "metadata": {},
   "source": [
    "24. Dado un número X, determinar el número de dígitos del que esta compuesto y\n",
    "desplegar el resultado."
   ]
  },
  {
   "cell_type": "code",
   "execution_count": 36,
   "metadata": {},
   "outputs": [
    {
     "name": "stdout",
     "output_type": "stream",
     "text": [
      "Ingrese un número: 1\n",
      "Este numero tiene 1 dígitos\n"
     ]
    }
   ],
   "source": [
    "x = int(input(\"Ingrese un número: \"))\n",
    "r = 1\n",
    "while x > 10:\n",
    "    r += 1\n",
    "    x //= 10\n",
    "print(f\"Este numero tiene {r} dígitos\")"
   ]
  },
  {
   "cell_type": "markdown",
   "metadata": {},
   "source": [
    "Escribir un programa que calcule y visualice el más grande, el más pequeño y la media\n",
    "de N números. El valor de N se solicitará al principio del programa y los números\n",
    "serán introducidos por el usuario."
   ]
  },
  {
   "cell_type": "code",
   "execution_count": 41,
   "metadata": {},
   "outputs": [
    {
     "name": "stdout",
     "output_type": "stream",
     "text": [
      "Ingresar N: 3\n",
      "Ingresar número: 5\n",
      "Ingresar número: 10\n",
      "Ingresar número: 15\n",
      "El valor mas grande es 15\n",
      "El valor mas pequeño es 5\n",
      "La media es 10.0\n"
     ]
    }
   ],
   "source": [
    "n = int(input(\"Ingresar N: \"))\n",
    "l = []\n",
    "i = 0\n",
    "while i < n:\n",
    "    l.append(int(input(\"Ingresar número: \")))\n",
    "    i += 1\n",
    "    \n",
    "print(f\"El valor mas grande es {max(l)}\")\n",
    "print(f\"El valor mas pequeño es {min(l)}\")\n",
    "print(f\"La media es {sum(l)/len(l)}\")"
   ]
  },
  {
   "cell_type": "markdown",
   "metadata": {},
   "source": [
    "26. Dado dos números A y B enteros mayores a cero, hallar A^B por sumas. Desplegar los\n",
    "números y el resultado."
   ]
  },
  {
   "cell_type": "code",
   "execution_count": 63,
   "metadata": {},
   "outputs": [
    {
     "name": "stdout",
     "output_type": "stream",
     "text": [
      "Ingrese A (entero mayor a cero): 2\n",
      "Ingrese B (entero mayor a cero): 10\n",
      "El resultado de 2^10 es: 1024\n"
     ]
    }
   ],
   "source": [
    "a = int(input(\"Ingrese A (entero mayor a cero): \"))\n",
    "b = int(input(\"Ingrese B (entero mayor a cero): \"))\n",
    "i = 0\n",
    "res = 1\n",
    "while i < b:\n",
    "    j = 0\n",
    "    p = res\n",
    "    while j < a-1:\n",
    "        res += p\n",
    "        j += 1\n",
    "    i += 1\n",
    "print(f\"El resultado de {a}^{b} es: {res}\")"
   ]
  },
  {
   "cell_type": "markdown",
   "metadata": {},
   "source": [
    "27. Escribir un programa que efectúe este cálculo con un número de términos\n",
    "especificando por el usuario."
   ]
  },
  {
   "cell_type": "code",
   "execution_count": 88,
   "metadata": {},
   "outputs": [
    {
     "name": "stdout",
     "output_type": "stream",
     "text": [
      "Número de términos: 100\n",
      "El valor de pi calculado es: 3.157339689217563\n"
     ]
    }
   ],
   "source": [
    "t = int(input(\"Número de términos: \"))\n",
    "res = 2\n",
    "n = 2\n",
    "d = 1\n",
    "for i in range(1,t):\n",
    "    res *= (n/d)\n",
    "    if i % 2 != 0:\n",
    "        d += 2\n",
    "    if i != 0 and i % 2 == 0:\n",
    "        n += 2\n",
    "print(f\"El valor de pi calculado es: {res}\")"
   ]
  },
  {
   "cell_type": "markdown",
   "metadata": {},
   "source": [
    "28. Escribir un programa que tome un valor de x como entrada y visualice la suma para\n",
    "cada uno de los valores de 1 a 100."
   ]
  },
  {
   "cell_type": "code",
   "execution_count": 7,
   "metadata": {},
   "outputs": [
    {
     "name": "stdout",
     "output_type": "stream",
     "text": [
      "Ingrese x: 5\n",
      "Ingrese n: 100\n",
      "148.41315910257657\n"
     ]
    }
   ],
   "source": [
    "x = int(input(\"Ingrese x: \"))\n",
    "n = int(input(\"Ingrese n: \"))\n",
    "res = 0\n",
    "fact = 1\n",
    "\n",
    "if n >= 1:\n",
    "    res = 1\n",
    "    \n",
    "for i in range(1,n+1):\n",
    "    fact *= i\n",
    "    res += (x**i)/(fact)\n",
    "    \n",
    "print(res)"
   ]
  },
  {
   "cell_type": "markdown",
   "metadata": {},
   "source": [
    "29. Calcular la suma de todos los elementos de un vector, así como la media aritmética."
   ]
  },
  {
   "cell_type": "code",
   "execution_count": 4,
   "metadata": {},
   "outputs": [
    {
     "name": "stdout",
     "output_type": "stream",
     "text": [
      "La suma es 21\n",
      "La media aritmetica es 3.5\n"
     ]
    }
   ],
   "source": [
    "vector = [[1,2],[3,4],[5,6]]\n",
    "s = 0\n",
    "e = 0\n",
    "for row in vector:\n",
    "    for n in row:\n",
    "        s += n\n",
    "        e += 1\n",
    "\n",
    "print(f\"La suma es {s}\")\n",
    "print(f\"La media aritmetica es {s/e}\")"
   ]
  },
  {
   "cell_type": "markdown",
   "metadata": {},
   "source": [
    "30. Multiplicar dos matrices."
   ]
  },
  {
   "cell_type": "code",
   "execution_count": 10,
   "metadata": {},
   "outputs": [
    {
     "name": "stdout",
     "output_type": "stream",
     "text": [
      "[[11, 14, 17, 20], [23, 30, 37, 44], [35, 46, 57, 68]]\n"
     ]
    }
   ],
   "source": [
    "A = [[1,2],[3,4],[5,6]] #2*3\n",
    "B = [[1,2,3,4],[5,6,7,8]] # 3*4\n",
    "C = [[0 for j in range(len(B[0]))] for i in range(len(A))]\n",
    "for i in range(len(A)):\n",
    "    for j in range(len(B[0])):\n",
    "        for k in range(len(B)):\n",
    "           C[i][j] += A[i][k] * B[k][j]\n",
    "print(C)"
   ]
  },
  {
   "cell_type": "code",
   "execution_count": null,
   "metadata": {},
   "outputs": [],
   "source": []
  }
 ],
 "metadata": {
  "kernelspec": {
   "display_name": "Python 3",
   "language": "python",
   "name": "python3"
  },
  "language_info": {
   "codemirror_mode": {
    "name": "ipython",
    "version": 3
   },
   "file_extension": ".py",
   "mimetype": "text/x-python",
   "name": "python",
   "nbconvert_exporter": "python",
   "pygments_lexer": "ipython3",
   "version": "3.7.4"
  }
 },
 "nbformat": 4,
 "nbformat_minor": 2
}
