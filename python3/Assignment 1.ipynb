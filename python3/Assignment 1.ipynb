{
 "cells": [
  {
   "cell_type": "markdown",
   "metadata": {},
   "source": [
    "<h1>Practica 1</h1>"
   ]
  },
  {
   "cell_type": "markdown",
   "metadata": {},
   "source": [
    "1. Escriba un programa que lea un entero (input), lo multiplique por 3 y lo imprima."
   ]
  },
  {
   "cell_type": "code",
   "execution_count": 4,
   "metadata": {},
   "outputs": [
    {
     "name": "stdout",
     "output_type": "stream",
     "text": [
      "Ingrese un entero: 10\n",
      "30\n"
     ]
    }
   ],
   "source": [
    "n = input(\"Ingrese un entero: \")\n",
    "print(int(n)*3)"
   ]
  },
  {
   "cell_type": "markdown",
   "metadata": {},
   "source": [
    "2.Escribir un programa que pida al cliente la longitud y ancho de la habitación e imprima la superficie de la habitación, los valores podrán tener decimales. Formato de salida deseado: xx.yy m^2"
   ]
  },
  {
   "cell_type": "code",
   "execution_count": 43,
   "metadata": {},
   "outputs": [
    {
     "name": "stdout",
     "output_type": "stream",
     "text": [
      "Ingrese longitud: 3\n",
      "Ingrese ancho: 5\n",
      "Superficie: 15.00 m^2\n"
     ]
    }
   ],
   "source": [
    "longitud = float(input(\"Ingrese longitud: \"))\n",
    "ancho = float(input(\"Ingrese ancho: \"))\n",
    "print('Superficie: %.2f m^2' % (longitud*ancho))"
   ]
  },
  {
   "cell_type": "markdown",
   "metadata": {},
   "source": [
    "3.Determinar el área y volumen de un cilindro cuyas dimensiones (radio - altura) se lean desde el teclado. Formato de salida deseado: xx.yy m^3"
   ]
  },
  {
   "cell_type": "code",
   "execution_count": 45,
   "metadata": {},
   "outputs": [
    {
     "name": "stdout",
     "output_type": "stream",
     "text": [
      "Ingrese radio: 3\n",
      "Ingrese altura: 6\n",
      "Volumen: 169.65 m^3\n",
      "Area: 169.65 m^2\n"
     ]
    }
   ],
   "source": [
    "import math\n",
    "radio = int(input(\"Ingrese radio: \"))\n",
    "altura = int(input(\"Ingrese altura: \"))\n",
    "print('Volumen: %.2f m^3' % (altura*math.pi*radio**2))\n",
    "print('Area: %.2f m^2' % (2*math.pi*radio*altura + 2*math.pi*radio**2))"
   ]
  },
  {
   "cell_type": "markdown",
   "metadata": {},
   "source": [
    "4.La fuerza de atracción entre dos masas m1 y m2 separadas por una distancia d, está\n",
    "dada por la fórmula:\n",
    "    $ F = \\frac{G  m_{1} m_{2}}{d^2} $\n",
    "\n",
    "Donde G es la constante de gravitación universal: $ G = 6.673 \\times 10^{-8} cm^{3} / g \\cdot seg^2  $\n",
    "\n",
    "Escriba un programa que lea la masa de dos cuerpos y la distancia entre ellos y a\n",
    "continuación obtenga la fuerza gravitacional entre ella. La salida debe ser en dinas; un\n",
    "DINA es igual a $ g*cm/seg^2 $\n",
    ".\n",
    "\n",
    "Formato de salida deseado: xx.yy dyn"
   ]
  },
  {
   "cell_type": "code",
   "execution_count": 14,
   "metadata": {},
   "outputs": [
    {
     "name": "stdout",
     "output_type": "stream",
     "text": [
      "Ingrese masa del primer cuerpo: 7000\n",
      "Ingrese masa del segundo cuerpo: 7000\n",
      "Ingrese distancia: 2\n",
      "Fuerza gravitacional: 0.82 dyn\n"
     ]
    }
   ],
   "source": [
    "m1 = float(input(\"Ingrese masa del primer cuerpo: \"))\n",
    "m2 = float(input(\"Ingrese masa del segundo cuerpo: \"))\n",
    "d = float(input('Ingrese distancia: '))\n",
    "g = 6.673*10**(-8)\n",
    "print('Fuerza gravitacional: %.2f dyn' % ((g*m1*m2)/d**2))"
   ]
  },
  {
   "cell_type": "markdown",
   "metadata": {},
   "source": [
    "5.La famosa ecuación de Einstein para conversión de una masa m en energía viene dada\n",
    "por la fórmula $ E = cm^2 $. c es la velocidad de la luz $ c = 2.997925 \\times 10^{10}  m/seg $\n",
    "scribir un programa que lea una masa en gramos y obtenga la cantidad de energía\n",
    "producida cuando la masa se convierta en energía.\n",
    "Nota: se la masa se da en gramos, la fórmula produce la energía en ergios.\n",
    "Formato de salida deseado: xx.yy erg"
   ]
  },
  {
   "cell_type": "code",
   "execution_count": 56,
   "metadata": {},
   "outputs": [
    {
     "name": "stdout",
     "output_type": "stream",
     "text": [
      "Ingresar masa en gramos: 1\n",
      "8987554.31 erg\n"
     ]
    }
   ],
   "source": [
    "m = int(input(\"Ingresar masa en gramos: \")) * (10**-3)\n",
    "c = 2.997925*(10**8)\n",
    "e =m*(c**2) * 10**(-7)\n",
    "print(\"%.2f erg\" % e)"
   ]
  },
  {
   "cell_type": "markdown",
   "metadata": {},
   "source": [
    "6.Escribir un programa que lea la hora en un día de notación 24 horas y escriba la\n",
    "respuesta en notación de 12 horas. Por ejemplo, si la entrada es 13:45, la salida será: 1:45 PM<br>\n",
    "El programa pedirá al usuario que introduzca exactamente cinco caracteres. Así, por\n",
    "ejemplo, las nueve en punto se introduce como: 09:00"
   ]
  },
  {
   "cell_type": "code",
   "execution_count": 5,
   "metadata": {},
   "outputs": [
    {
     "name": "stdout",
     "output_type": "stream",
     "text": [
      "Ingresar la hora: 13:45\n",
      "1:45 PM\n"
     ]
    }
   ],
   "source": [
    "hora = input(\"Ingresar la hora: \")\n",
    "h = int(hora[:2])\n",
    "m = int(hora[3:])\n",
    "t = 'AM'\n",
    "if h > 12:\n",
    "    h -= 12\n",
    "    t = 'PM'\n",
    "if h == 12:\n",
    "    t = 'PM'\n",
    "if h == 0:\n",
    "    h = 12\n",
    "    t = 'AM'\n",
    "\n",
    "print(h,':',m,' ',t,sep='')"
   ]
  },
  {
   "cell_type": "markdown",
   "metadata": {},
   "source": [
    "<p>7. Leer un número A, evaluar sucesivamente las expresiones siguientes y desplegar los\n",
    "resultados obtenidos en un archivo denominado “practica01.out”.<br>\n",
    "B = A + 10<br>\n",
    "C = 2 * B + A<br>\n",
    "D = A + B + C + 5<br>\n",
    "Formato de salida deseado:<br>\n",
    "Ejercicio 7.<br>\n",
    "A = xx<br>\n",
    "B = yy<br>\n",
    "C = zz<br>\n",
    "D = xyz<p>"
   ]
  },
  {
   "cell_type": "code",
   "execution_count": 38,
   "metadata": {},
   "outputs": [
    {
     "name": "stdout",
     "output_type": "stream",
     "text": [
      "Ingrese numero A: 5\n"
     ]
    }
   ],
   "source": [
    "a = int(input(\"Ingrese numero A: \"))\n",
    "b = a + 10\n",
    "c = 2*b + a\n",
    "d = a + b + c + 5\n",
    "print(\"\"\"Ejercicio 7.\n",
    "A = %d\n",
    "B = %d\n",
    "C = %d\n",
    "D = %d\n",
    "\"\"\" % (a,b,c,d), file=open('practica01.out', 'w'))"
   ]
  },
  {
   "cell_type": "markdown",
   "metadata": {},
   "source": [
    "<p>8. Hacer leer un número X de tipo decimal, hallar su valor absoluto y decimal, desplegar\n",
    "el resultado dentro del archivo “practica01.out”.<br>\n",
    "Formato de salida deseado:<br>\n",
    "Ejercicio 8.<br>\n",
    "Número: xx.yy<br>\n",
    "Valor absoluto: xx<br>\n",
    "Parte decimal: yy</p>"
   ]
  },
  {
   "cell_type": "code",
   "execution_count": 39,
   "metadata": {},
   "outputs": [
    {
     "name": "stdout",
     "output_type": "stream",
     "text": [
      "Ingrese numero X: 45.78\n"
     ]
    }
   ],
   "source": [
    "x = float(input(\"Ingrese numero X: \"))\n",
    "e = int(x)\n",
    "print(\"\"\"\n",
    "Ejercicio 8.\n",
    "Numero: %.2f\n",
    "Valos absoluto: %d\n",
    "Parte Decimal: %d\n",
    "\"\"\" % (x, e, 100*round(x-e,2)),file=open('practica01.out', 'a'))"
   ]
  },
  {
   "cell_type": "markdown",
   "metadata": {},
   "source": [
    "<p>9. Leer a, b, c y d, hallar el menor y mayor de los cuatro números, desplegar su resultado\n",
    "en el archivo “practica01.out”.</p>"
   ]
  },
  {
   "cell_type": "code",
   "execution_count": 40,
   "metadata": {},
   "outputs": [
    {
     "name": "stdout",
     "output_type": "stream",
     "text": [
      "Ingrese a: 3\n",
      "Ingrese b: 7\n",
      "Ingrese c: 5\n",
      "Ingrese d: 9\n"
     ]
    }
   ],
   "source": [
    "a = int(input(\"Ingrese a: \"))\n",
    "b = int(input(\"Ingrese b: \"))\n",
    "c = int(input(\"Ingrese c: \"))\n",
    "d = int(input(\"Ingrese d: \"))\n",
    "nums = [a,b,c,d]\n",
    "print(\"\"\"\n",
    "Ejercicio 9.\n",
    "Mayor: %d\n",
    "Menor: %d\n",
    "\"\"\" % (max(nums),min(nums)), file=open('practica01.out', 'a'))"
   ]
  },
  {
   "cell_type": "markdown",
   "metadata": {},
   "source": [
    "10.Dado los valores de X, Y, Z, evaluar A = X^2+Y^2+Z^2. Si se cumple que, A<100 y Y<5\n",
    "calcular B = (X+Y)^2 – X*Z, caso contrario calcular B = (X-Y)^2 + X*Z. Desplegar A y B\n",
    "en el archivo “practica01.out”"
   ]
  },
  {
   "cell_type": "code",
   "execution_count": 41,
   "metadata": {},
   "outputs": [
    {
     "name": "stdout",
     "output_type": "stream",
     "text": [
      "Ingrese valor X: 3\n",
      "Ingrese valor y: 4\n",
      "Ingrese valor z: 5\n"
     ]
    }
   ],
   "source": [
    "x = int(input(\"Ingrese valor X: \"))\n",
    "y = int(input(\"Ingrese valor y: \"))\n",
    "z = int(input(\"Ingrese valor z: \"))\n",
    "A = x**2 + y**2 + z**2\n",
    "if A < 100 and y < 5:\n",
    "    B = (x+y)**2 - x*z\n",
    "else:\n",
    "    B = (x-y)**2 + x*z\n",
    "print(\"\"\"\n",
    "Ejercicio 10.\n",
    "A: %d\n",
    "B: %d\n",
    "\"\"\" % (A,B), file=open('practica01.out', 'a'))"
   ]
  },
  {
   "cell_type": "code",
   "execution_count": null,
   "metadata": {},
   "outputs": [],
   "source": []
  }
 ],
 "metadata": {
  "kernelspec": {
   "display_name": "Python 3",
   "language": "python",
   "name": "python3"
  },
  "language_info": {
   "codemirror_mode": {
    "name": "ipython",
    "version": 3
   },
   "file_extension": ".py",
   "mimetype": "text/x-python",
   "name": "python",
   "nbconvert_exporter": "python",
   "pygments_lexer": "ipython3",
   "version": "3.7.4"
  }
 },
 "nbformat": 4,
 "nbformat_minor": 2
}
